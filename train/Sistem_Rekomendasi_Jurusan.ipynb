{
  "cells": [
    {
      "cell_type": "markdown",
      "metadata": {
        "id": "k33EY7XOgdwY"
      },
      "source": [
        "# Import Library"
      ]
    },
    {
      "cell_type": "code",
      "execution_count": 1,
      "metadata": {
        "id": "uHiZhh-pNJTR"
      },
      "outputs": [],
      "source": [
        "import pandas as pd\n",
        "import numpy as np\n",
        "import seaborn as sns\n",
        "import matplotlib.pyplot as plt\n",
        "import joblib\n",
        "from sklearn.model_selection import train_test_split\n",
        "from sklearn.model_selection import GridSearchCV\n",
        "from sklearn.tree import DecisionTreeClassifier\n",
        "from sklearn.metrics import accuracy_score, confusion_matrix\n",
        "from sklearn.svm import SVC\n",
        "from sklearn.ensemble import RandomForestClassifier\n",
        "%matplotlib inline"
      ]
    },
    {
      "cell_type": "markdown",
      "source": [
        "#Data Acquisition"
      ],
      "metadata": {
        "id": "71QCNsP_q9GG"
      }
    },
    {
      "cell_type": "code",
      "execution_count": 10,
      "metadata": {
        "colab": {
          "base_uri": "https://localhost:8080/",
          "height": 424
        },
        "id": "zoUZDM1ENMJM",
        "outputId": "11bc833f-b3e9-469c-f64b-b8fc39a875b3"
      },
      "outputs": [
        {
          "output_type": "execute_result",
          "data": {
            "text/plain": [
              "                  Timestamp  Nilai Matematika Jurusan saat Sekolah  \\\n",
              "0   2022-11-23 09:02:15.983              88.0                  RPL   \n",
              "1   2022-11-23 09:03:04.933              97.0                  RPL   \n",
              "2   2022-11-23 09:03:26.171              88.0                  RPL   \n",
              "3   2022-11-23 09:04:07.155              96.0                  IPA   \n",
              "4   2022-11-23 09:04:28.837              88.0                  IPA   \n",
              "..                      ...               ...                  ...   \n",
              "247 2022-11-22 23:23:24.182              77.0                  IPS   \n",
              "248 2022-11-22 23:23:51.919              89.0                  TKJ   \n",
              "249 2022-11-22 23:24:12.757              92.0                  IPA   \n",
              "250 2022-11-22 23:24:32.139              85.0                  TKJ   \n",
              "251 2022-11-22 23:26:06.475              88.0                  IPS   \n",
              "\n",
              "               Minat1                   Minat2                 Karir1  \\\n",
              "0    Mobile Developer        Designer Graphics  Mobile Apps Developer   \n",
              "1    Mobile Developer                     Data  Mobile Apps Developer   \n",
              "2    Mobile Developer  Artificial Intelligence  Mobile Apps Developer   \n",
              "3    Mobile Developer        Designer Graphics  Mobile Apps Developer   \n",
              "4    Mobile Developer                     Data  Mobile Apps Developer   \n",
              "..                ...                      ...                    ...   \n",
              "247    Cyber Security  Smart Devices / Arduino             Auditor TI   \n",
              "248    Cyber Security                      NaN             Auditor TI   \n",
              "249    Cyber Security  Smart Devices / Arduino             Auditor TI   \n",
              "250    Cyber Security  Smart Devices / Arduino             Auditor TI   \n",
              "251    Cyber Security                      NaN             Auditor TI   \n",
              "\n",
              "                                            Karir2 Program Studi saat ini  \n",
              "0                                 UI / UX Designer     Teknik Informatika  \n",
              "1    Data Scientist / Data Analyst / Data Engineer     Teknik Informatika  \n",
              "2                        Machine Learning Engineer     Teknik Informatika  \n",
              "3                                              NaN     Teknik Informatika  \n",
              "4                                              NaN     Teknik Informatika  \n",
              "..                                             ...                    ...  \n",
              "247                                            NaN    Teknologi Informasi  \n",
              "248                                            NaN    Teknologi Informasi  \n",
              "249                                   IoT Engineer    Teknologi Informasi  \n",
              "250                                   IoT Engineer    Teknologi Informasi  \n",
              "251                                            NaN    Teknologi Informasi  \n",
              "\n",
              "[252 rows x 8 columns]"
            ],
            "text/html": [
              "\n",
              "  <div id=\"df-6445488f-1160-4e5d-9e80-fe1714b93cf0\">\n",
              "    <div class=\"colab-df-container\">\n",
              "      <div>\n",
              "<style scoped>\n",
              "    .dataframe tbody tr th:only-of-type {\n",
              "        vertical-align: middle;\n",
              "    }\n",
              "\n",
              "    .dataframe tbody tr th {\n",
              "        vertical-align: top;\n",
              "    }\n",
              "\n",
              "    .dataframe thead th {\n",
              "        text-align: right;\n",
              "    }\n",
              "</style>\n",
              "<table border=\"1\" class=\"dataframe\">\n",
              "  <thead>\n",
              "    <tr style=\"text-align: right;\">\n",
              "      <th></th>\n",
              "      <th>Timestamp</th>\n",
              "      <th>Nilai Matematika</th>\n",
              "      <th>Jurusan saat Sekolah</th>\n",
              "      <th>Minat1</th>\n",
              "      <th>Minat2</th>\n",
              "      <th>Karir1</th>\n",
              "      <th>Karir2</th>\n",
              "      <th>Program Studi saat ini</th>\n",
              "    </tr>\n",
              "  </thead>\n",
              "  <tbody>\n",
              "    <tr>\n",
              "      <th>0</th>\n",
              "      <td>2022-11-23 09:02:15.983</td>\n",
              "      <td>88.0</td>\n",
              "      <td>RPL</td>\n",
              "      <td>Mobile Developer</td>\n",
              "      <td>Designer Graphics</td>\n",
              "      <td>Mobile Apps Developer</td>\n",
              "      <td>UI / UX Designer</td>\n",
              "      <td>Teknik Informatika</td>\n",
              "    </tr>\n",
              "    <tr>\n",
              "      <th>1</th>\n",
              "      <td>2022-11-23 09:03:04.933</td>\n",
              "      <td>97.0</td>\n",
              "      <td>RPL</td>\n",
              "      <td>Mobile Developer</td>\n",
              "      <td>Data</td>\n",
              "      <td>Mobile Apps Developer</td>\n",
              "      <td>Data Scientist / Data Analyst / Data Engineer</td>\n",
              "      <td>Teknik Informatika</td>\n",
              "    </tr>\n",
              "    <tr>\n",
              "      <th>2</th>\n",
              "      <td>2022-11-23 09:03:26.171</td>\n",
              "      <td>88.0</td>\n",
              "      <td>RPL</td>\n",
              "      <td>Mobile Developer</td>\n",
              "      <td>Artificial Intelligence</td>\n",
              "      <td>Mobile Apps Developer</td>\n",
              "      <td>Machine Learning Engineer</td>\n",
              "      <td>Teknik Informatika</td>\n",
              "    </tr>\n",
              "    <tr>\n",
              "      <th>3</th>\n",
              "      <td>2022-11-23 09:04:07.155</td>\n",
              "      <td>96.0</td>\n",
              "      <td>IPA</td>\n",
              "      <td>Mobile Developer</td>\n",
              "      <td>Designer Graphics</td>\n",
              "      <td>Mobile Apps Developer</td>\n",
              "      <td>NaN</td>\n",
              "      <td>Teknik Informatika</td>\n",
              "    </tr>\n",
              "    <tr>\n",
              "      <th>4</th>\n",
              "      <td>2022-11-23 09:04:28.837</td>\n",
              "      <td>88.0</td>\n",
              "      <td>IPA</td>\n",
              "      <td>Mobile Developer</td>\n",
              "      <td>Data</td>\n",
              "      <td>Mobile Apps Developer</td>\n",
              "      <td>NaN</td>\n",
              "      <td>Teknik Informatika</td>\n",
              "    </tr>\n",
              "    <tr>\n",
              "      <th>...</th>\n",
              "      <td>...</td>\n",
              "      <td>...</td>\n",
              "      <td>...</td>\n",
              "      <td>...</td>\n",
              "      <td>...</td>\n",
              "      <td>...</td>\n",
              "      <td>...</td>\n",
              "      <td>...</td>\n",
              "    </tr>\n",
              "    <tr>\n",
              "      <th>247</th>\n",
              "      <td>2022-11-22 23:23:24.182</td>\n",
              "      <td>77.0</td>\n",
              "      <td>IPS</td>\n",
              "      <td>Cyber Security</td>\n",
              "      <td>Smart Devices / Arduino</td>\n",
              "      <td>Auditor TI</td>\n",
              "      <td>NaN</td>\n",
              "      <td>Teknologi Informasi</td>\n",
              "    </tr>\n",
              "    <tr>\n",
              "      <th>248</th>\n",
              "      <td>2022-11-22 23:23:51.919</td>\n",
              "      <td>89.0</td>\n",
              "      <td>TKJ</td>\n",
              "      <td>Cyber Security</td>\n",
              "      <td>NaN</td>\n",
              "      <td>Auditor TI</td>\n",
              "      <td>NaN</td>\n",
              "      <td>Teknologi Informasi</td>\n",
              "    </tr>\n",
              "    <tr>\n",
              "      <th>249</th>\n",
              "      <td>2022-11-22 23:24:12.757</td>\n",
              "      <td>92.0</td>\n",
              "      <td>IPA</td>\n",
              "      <td>Cyber Security</td>\n",
              "      <td>Smart Devices / Arduino</td>\n",
              "      <td>Auditor TI</td>\n",
              "      <td>IoT Engineer</td>\n",
              "      <td>Teknologi Informasi</td>\n",
              "    </tr>\n",
              "    <tr>\n",
              "      <th>250</th>\n",
              "      <td>2022-11-22 23:24:32.139</td>\n",
              "      <td>85.0</td>\n",
              "      <td>TKJ</td>\n",
              "      <td>Cyber Security</td>\n",
              "      <td>Smart Devices / Arduino</td>\n",
              "      <td>Auditor TI</td>\n",
              "      <td>IoT Engineer</td>\n",
              "      <td>Teknologi Informasi</td>\n",
              "    </tr>\n",
              "    <tr>\n",
              "      <th>251</th>\n",
              "      <td>2022-11-22 23:26:06.475</td>\n",
              "      <td>88.0</td>\n",
              "      <td>IPS</td>\n",
              "      <td>Cyber Security</td>\n",
              "      <td>NaN</td>\n",
              "      <td>Auditor TI</td>\n",
              "      <td>NaN</td>\n",
              "      <td>Teknologi Informasi</td>\n",
              "    </tr>\n",
              "  </tbody>\n",
              "</table>\n",
              "<p>252 rows × 8 columns</p>\n",
              "</div>\n",
              "      <button class=\"colab-df-convert\" onclick=\"convertToInteractive('df-6445488f-1160-4e5d-9e80-fe1714b93cf0')\"\n",
              "              title=\"Convert this dataframe to an interactive table.\"\n",
              "              style=\"display:none;\">\n",
              "        \n",
              "  <svg xmlns=\"http://www.w3.org/2000/svg\" height=\"24px\"viewBox=\"0 0 24 24\"\n",
              "       width=\"24px\">\n",
              "    <path d=\"M0 0h24v24H0V0z\" fill=\"none\"/>\n",
              "    <path d=\"M18.56 5.44l.94 2.06.94-2.06 2.06-.94-2.06-.94-.94-2.06-.94 2.06-2.06.94zm-11 1L8.5 8.5l.94-2.06 2.06-.94-2.06-.94L8.5 2.5l-.94 2.06-2.06.94zm10 10l.94 2.06.94-2.06 2.06-.94-2.06-.94-.94-2.06-.94 2.06-2.06.94z\"/><path d=\"M17.41 7.96l-1.37-1.37c-.4-.4-.92-.59-1.43-.59-.52 0-1.04.2-1.43.59L10.3 9.45l-7.72 7.72c-.78.78-.78 2.05 0 2.83L4 21.41c.39.39.9.59 1.41.59.51 0 1.02-.2 1.41-.59l7.78-7.78 2.81-2.81c.8-.78.8-2.07 0-2.86zM5.41 20L4 18.59l7.72-7.72 1.47 1.35L5.41 20z\"/>\n",
              "  </svg>\n",
              "      </button>\n",
              "      \n",
              "  <style>\n",
              "    .colab-df-container {\n",
              "      display:flex;\n",
              "      flex-wrap:wrap;\n",
              "      gap: 12px;\n",
              "    }\n",
              "\n",
              "    .colab-df-convert {\n",
              "      background-color: #E8F0FE;\n",
              "      border: none;\n",
              "      border-radius: 50%;\n",
              "      cursor: pointer;\n",
              "      display: none;\n",
              "      fill: #1967D2;\n",
              "      height: 32px;\n",
              "      padding: 0 0 0 0;\n",
              "      width: 32px;\n",
              "    }\n",
              "\n",
              "    .colab-df-convert:hover {\n",
              "      background-color: #E2EBFA;\n",
              "      box-shadow: 0px 1px 2px rgba(60, 64, 67, 0.3), 0px 1px 3px 1px rgba(60, 64, 67, 0.15);\n",
              "      fill: #174EA6;\n",
              "    }\n",
              "\n",
              "    [theme=dark] .colab-df-convert {\n",
              "      background-color: #3B4455;\n",
              "      fill: #D2E3FC;\n",
              "    }\n",
              "\n",
              "    [theme=dark] .colab-df-convert:hover {\n",
              "      background-color: #434B5C;\n",
              "      box-shadow: 0px 1px 3px 1px rgba(0, 0, 0, 0.15);\n",
              "      filter: drop-shadow(0px 1px 2px rgba(0, 0, 0, 0.3));\n",
              "      fill: #FFFFFF;\n",
              "    }\n",
              "  </style>\n",
              "\n",
              "      <script>\n",
              "        const buttonEl =\n",
              "          document.querySelector('#df-6445488f-1160-4e5d-9e80-fe1714b93cf0 button.colab-df-convert');\n",
              "        buttonEl.style.display =\n",
              "          google.colab.kernel.accessAllowed ? 'block' : 'none';\n",
              "\n",
              "        async function convertToInteractive(key) {\n",
              "          const element = document.querySelector('#df-6445488f-1160-4e5d-9e80-fe1714b93cf0');\n",
              "          const dataTable =\n",
              "            await google.colab.kernel.invokeFunction('convertToInteractive',\n",
              "                                                     [key], {});\n",
              "          if (!dataTable) return;\n",
              "\n",
              "          const docLinkHtml = 'Like what you see? Visit the ' +\n",
              "            '<a target=\"_blank\" href=https://colab.research.google.com/notebooks/data_table.ipynb>data table notebook</a>'\n",
              "            + ' to learn more about interactive tables.';\n",
              "          element.innerHTML = '';\n",
              "          dataTable['output_type'] = 'display_data';\n",
              "          await google.colab.output.renderOutput(dataTable, element);\n",
              "          const docLink = document.createElement('div');\n",
              "          docLink.innerHTML = docLinkHtml;\n",
              "          element.appendChild(docLink);\n",
              "        }\n",
              "      </script>\n",
              "    </div>\n",
              "  </div>\n",
              "  "
            ]
          },
          "metadata": {},
          "execution_count": 10
        }
      ],
      "source": [
        "df = pd.read_excel(\"DatasetPA.xlsx\")\n",
        "df"
      ]
    },
    {
      "cell_type": "markdown",
      "metadata": {
        "id": "Wdc0fLmAiD84"
      },
      "source": [
        "# Exploratory data analysis (EDA)"
      ]
    },
    {
      "cell_type": "code",
      "execution_count": 11,
      "metadata": {
        "colab": {
          "base_uri": "https://localhost:8080/",
          "height": 424
        },
        "id": "aFVk7fSS1ESh",
        "outputId": "fa3b9360-16ac-4ae5-b091-fd6d5a9920b6"
      },
      "outputs": [
        {
          "output_type": "execute_result",
          "data": {
            "text/plain": [
              "     Nilai Matematika Jurusan saat Sekolah            Minat1  \\\n",
              "0                88.0                  RPL  Mobile Developer   \n",
              "1                97.0                  RPL  Mobile Developer   \n",
              "2                88.0                  RPL  Mobile Developer   \n",
              "3                96.0                  IPA  Mobile Developer   \n",
              "4                88.0                  IPA  Mobile Developer   \n",
              "..                ...                  ...               ...   \n",
              "247              77.0                  IPS    Cyber Security   \n",
              "248              89.0                  TKJ    Cyber Security   \n",
              "249              92.0                  IPA    Cyber Security   \n",
              "250              85.0                  TKJ    Cyber Security   \n",
              "251              88.0                  IPS    Cyber Security   \n",
              "\n",
              "                      Minat2                 Karir1  \\\n",
              "0          Designer Graphics  Mobile Apps Developer   \n",
              "1                       Data  Mobile Apps Developer   \n",
              "2    Artificial Intelligence  Mobile Apps Developer   \n",
              "3          Designer Graphics  Mobile Apps Developer   \n",
              "4                       Data  Mobile Apps Developer   \n",
              "..                       ...                    ...   \n",
              "247  Smart Devices / Arduino             Auditor TI   \n",
              "248                      NaN             Auditor TI   \n",
              "249  Smart Devices / Arduino             Auditor TI   \n",
              "250  Smart Devices / Arduino             Auditor TI   \n",
              "251                      NaN             Auditor TI   \n",
              "\n",
              "                                            Karir2 Program Studi saat ini  \n",
              "0                                 UI / UX Designer     Teknik Informatika  \n",
              "1    Data Scientist / Data Analyst / Data Engineer     Teknik Informatika  \n",
              "2                        Machine Learning Engineer     Teknik Informatika  \n",
              "3                                              NaN     Teknik Informatika  \n",
              "4                                              NaN     Teknik Informatika  \n",
              "..                                             ...                    ...  \n",
              "247                                            NaN    Teknologi Informasi  \n",
              "248                                            NaN    Teknologi Informasi  \n",
              "249                                   IoT Engineer    Teknologi Informasi  \n",
              "250                                   IoT Engineer    Teknologi Informasi  \n",
              "251                                            NaN    Teknologi Informasi  \n",
              "\n",
              "[252 rows x 7 columns]"
            ],
            "text/html": [
              "\n",
              "  <div id=\"df-8af7fe48-fc42-4a90-84a2-f3878feed8ef\">\n",
              "    <div class=\"colab-df-container\">\n",
              "      <div>\n",
              "<style scoped>\n",
              "    .dataframe tbody tr th:only-of-type {\n",
              "        vertical-align: middle;\n",
              "    }\n",
              "\n",
              "    .dataframe tbody tr th {\n",
              "        vertical-align: top;\n",
              "    }\n",
              "\n",
              "    .dataframe thead th {\n",
              "        text-align: right;\n",
              "    }\n",
              "</style>\n",
              "<table border=\"1\" class=\"dataframe\">\n",
              "  <thead>\n",
              "    <tr style=\"text-align: right;\">\n",
              "      <th></th>\n",
              "      <th>Nilai Matematika</th>\n",
              "      <th>Jurusan saat Sekolah</th>\n",
              "      <th>Minat1</th>\n",
              "      <th>Minat2</th>\n",
              "      <th>Karir1</th>\n",
              "      <th>Karir2</th>\n",
              "      <th>Program Studi saat ini</th>\n",
              "    </tr>\n",
              "  </thead>\n",
              "  <tbody>\n",
              "    <tr>\n",
              "      <th>0</th>\n",
              "      <td>88.0</td>\n",
              "      <td>RPL</td>\n",
              "      <td>Mobile Developer</td>\n",
              "      <td>Designer Graphics</td>\n",
              "      <td>Mobile Apps Developer</td>\n",
              "      <td>UI / UX Designer</td>\n",
              "      <td>Teknik Informatika</td>\n",
              "    </tr>\n",
              "    <tr>\n",
              "      <th>1</th>\n",
              "      <td>97.0</td>\n",
              "      <td>RPL</td>\n",
              "      <td>Mobile Developer</td>\n",
              "      <td>Data</td>\n",
              "      <td>Mobile Apps Developer</td>\n",
              "      <td>Data Scientist / Data Analyst / Data Engineer</td>\n",
              "      <td>Teknik Informatika</td>\n",
              "    </tr>\n",
              "    <tr>\n",
              "      <th>2</th>\n",
              "      <td>88.0</td>\n",
              "      <td>RPL</td>\n",
              "      <td>Mobile Developer</td>\n",
              "      <td>Artificial Intelligence</td>\n",
              "      <td>Mobile Apps Developer</td>\n",
              "      <td>Machine Learning Engineer</td>\n",
              "      <td>Teknik Informatika</td>\n",
              "    </tr>\n",
              "    <tr>\n",
              "      <th>3</th>\n",
              "      <td>96.0</td>\n",
              "      <td>IPA</td>\n",
              "      <td>Mobile Developer</td>\n",
              "      <td>Designer Graphics</td>\n",
              "      <td>Mobile Apps Developer</td>\n",
              "      <td>NaN</td>\n",
              "      <td>Teknik Informatika</td>\n",
              "    </tr>\n",
              "    <tr>\n",
              "      <th>4</th>\n",
              "      <td>88.0</td>\n",
              "      <td>IPA</td>\n",
              "      <td>Mobile Developer</td>\n",
              "      <td>Data</td>\n",
              "      <td>Mobile Apps Developer</td>\n",
              "      <td>NaN</td>\n",
              "      <td>Teknik Informatika</td>\n",
              "    </tr>\n",
              "    <tr>\n",
              "      <th>...</th>\n",
              "      <td>...</td>\n",
              "      <td>...</td>\n",
              "      <td>...</td>\n",
              "      <td>...</td>\n",
              "      <td>...</td>\n",
              "      <td>...</td>\n",
              "      <td>...</td>\n",
              "    </tr>\n",
              "    <tr>\n",
              "      <th>247</th>\n",
              "      <td>77.0</td>\n",
              "      <td>IPS</td>\n",
              "      <td>Cyber Security</td>\n",
              "      <td>Smart Devices / Arduino</td>\n",
              "      <td>Auditor TI</td>\n",
              "      <td>NaN</td>\n",
              "      <td>Teknologi Informasi</td>\n",
              "    </tr>\n",
              "    <tr>\n",
              "      <th>248</th>\n",
              "      <td>89.0</td>\n",
              "      <td>TKJ</td>\n",
              "      <td>Cyber Security</td>\n",
              "      <td>NaN</td>\n",
              "      <td>Auditor TI</td>\n",
              "      <td>NaN</td>\n",
              "      <td>Teknologi Informasi</td>\n",
              "    </tr>\n",
              "    <tr>\n",
              "      <th>249</th>\n",
              "      <td>92.0</td>\n",
              "      <td>IPA</td>\n",
              "      <td>Cyber Security</td>\n",
              "      <td>Smart Devices / Arduino</td>\n",
              "      <td>Auditor TI</td>\n",
              "      <td>IoT Engineer</td>\n",
              "      <td>Teknologi Informasi</td>\n",
              "    </tr>\n",
              "    <tr>\n",
              "      <th>250</th>\n",
              "      <td>85.0</td>\n",
              "      <td>TKJ</td>\n",
              "      <td>Cyber Security</td>\n",
              "      <td>Smart Devices / Arduino</td>\n",
              "      <td>Auditor TI</td>\n",
              "      <td>IoT Engineer</td>\n",
              "      <td>Teknologi Informasi</td>\n",
              "    </tr>\n",
              "    <tr>\n",
              "      <th>251</th>\n",
              "      <td>88.0</td>\n",
              "      <td>IPS</td>\n",
              "      <td>Cyber Security</td>\n",
              "      <td>NaN</td>\n",
              "      <td>Auditor TI</td>\n",
              "      <td>NaN</td>\n",
              "      <td>Teknologi Informasi</td>\n",
              "    </tr>\n",
              "  </tbody>\n",
              "</table>\n",
              "<p>252 rows × 7 columns</p>\n",
              "</div>\n",
              "      <button class=\"colab-df-convert\" onclick=\"convertToInteractive('df-8af7fe48-fc42-4a90-84a2-f3878feed8ef')\"\n",
              "              title=\"Convert this dataframe to an interactive table.\"\n",
              "              style=\"display:none;\">\n",
              "        \n",
              "  <svg xmlns=\"http://www.w3.org/2000/svg\" height=\"24px\"viewBox=\"0 0 24 24\"\n",
              "       width=\"24px\">\n",
              "    <path d=\"M0 0h24v24H0V0z\" fill=\"none\"/>\n",
              "    <path d=\"M18.56 5.44l.94 2.06.94-2.06 2.06-.94-2.06-.94-.94-2.06-.94 2.06-2.06.94zm-11 1L8.5 8.5l.94-2.06 2.06-.94-2.06-.94L8.5 2.5l-.94 2.06-2.06.94zm10 10l.94 2.06.94-2.06 2.06-.94-2.06-.94-.94-2.06-.94 2.06-2.06.94z\"/><path d=\"M17.41 7.96l-1.37-1.37c-.4-.4-.92-.59-1.43-.59-.52 0-1.04.2-1.43.59L10.3 9.45l-7.72 7.72c-.78.78-.78 2.05 0 2.83L4 21.41c.39.39.9.59 1.41.59.51 0 1.02-.2 1.41-.59l7.78-7.78 2.81-2.81c.8-.78.8-2.07 0-2.86zM5.41 20L4 18.59l7.72-7.72 1.47 1.35L5.41 20z\"/>\n",
              "  </svg>\n",
              "      </button>\n",
              "      \n",
              "  <style>\n",
              "    .colab-df-container {\n",
              "      display:flex;\n",
              "      flex-wrap:wrap;\n",
              "      gap: 12px;\n",
              "    }\n",
              "\n",
              "    .colab-df-convert {\n",
              "      background-color: #E8F0FE;\n",
              "      border: none;\n",
              "      border-radius: 50%;\n",
              "      cursor: pointer;\n",
              "      display: none;\n",
              "      fill: #1967D2;\n",
              "      height: 32px;\n",
              "      padding: 0 0 0 0;\n",
              "      width: 32px;\n",
              "    }\n",
              "\n",
              "    .colab-df-convert:hover {\n",
              "      background-color: #E2EBFA;\n",
              "      box-shadow: 0px 1px 2px rgba(60, 64, 67, 0.3), 0px 1px 3px 1px rgba(60, 64, 67, 0.15);\n",
              "      fill: #174EA6;\n",
              "    }\n",
              "\n",
              "    [theme=dark] .colab-df-convert {\n",
              "      background-color: #3B4455;\n",
              "      fill: #D2E3FC;\n",
              "    }\n",
              "\n",
              "    [theme=dark] .colab-df-convert:hover {\n",
              "      background-color: #434B5C;\n",
              "      box-shadow: 0px 1px 3px 1px rgba(0, 0, 0, 0.15);\n",
              "      filter: drop-shadow(0px 1px 2px rgba(0, 0, 0, 0.3));\n",
              "      fill: #FFFFFF;\n",
              "    }\n",
              "  </style>\n",
              "\n",
              "      <script>\n",
              "        const buttonEl =\n",
              "          document.querySelector('#df-8af7fe48-fc42-4a90-84a2-f3878feed8ef button.colab-df-convert');\n",
              "        buttonEl.style.display =\n",
              "          google.colab.kernel.accessAllowed ? 'block' : 'none';\n",
              "\n",
              "        async function convertToInteractive(key) {\n",
              "          const element = document.querySelector('#df-8af7fe48-fc42-4a90-84a2-f3878feed8ef');\n",
              "          const dataTable =\n",
              "            await google.colab.kernel.invokeFunction('convertToInteractive',\n",
              "                                                     [key], {});\n",
              "          if (!dataTable) return;\n",
              "\n",
              "          const docLinkHtml = 'Like what you see? Visit the ' +\n",
              "            '<a target=\"_blank\" href=https://colab.research.google.com/notebooks/data_table.ipynb>data table notebook</a>'\n",
              "            + ' to learn more about interactive tables.';\n",
              "          element.innerHTML = '';\n",
              "          dataTable['output_type'] = 'display_data';\n",
              "          await google.colab.output.renderOutput(dataTable, element);\n",
              "          const docLink = document.createElement('div');\n",
              "          docLink.innerHTML = docLinkHtml;\n",
              "          element.appendChild(docLink);\n",
              "        }\n",
              "      </script>\n",
              "    </div>\n",
              "  </div>\n",
              "  "
            ]
          },
          "metadata": {},
          "execution_count": 11
        }
      ],
      "source": [
        "df = df.drop(['Timestamp'],axis='columns')\n",
        "df"
      ]
    },
    {
      "cell_type": "code",
      "execution_count": 12,
      "metadata": {
        "colab": {
          "base_uri": "https://localhost:8080/"
        },
        "id": "_oCQBYG_m84H",
        "outputId": "352cc652-45cb-49ff-d946-16ef02c381ed"
      },
      "outputs": [
        {
          "output_type": "stream",
          "name": "stdout",
          "text": [
            "Dataset Information: \n",
            "\n",
            "<class 'pandas.core.frame.DataFrame'>\n",
            "RangeIndex: 252 entries, 0 to 251\n",
            "Data columns (total 7 columns):\n",
            " #   Column                  Non-Null Count  Dtype  \n",
            "---  ------                  --------------  -----  \n",
            " 0   Nilai Matematika        252 non-null    float64\n",
            " 1   Jurusan saat Sekolah    252 non-null    object \n",
            " 2   Minat1                  252 non-null    object \n",
            " 3   Minat2                  172 non-null    object \n",
            " 4   Karir1                  251 non-null    object \n",
            " 5   Karir2                  154 non-null    object \n",
            " 6   Program Studi saat ini  252 non-null    object \n",
            "dtypes: float64(1), object(6)\n",
            "memory usage: 13.9+ KB\n",
            "None\n"
          ]
        }
      ],
      "source": [
        "print('Dataset Information: \\n')\n",
        "print(df.info())"
      ]
    },
    {
      "cell_type": "code",
      "execution_count": 13,
      "metadata": {
        "colab": {
          "base_uri": "https://localhost:8080/"
        },
        "id": "pbc8Vz3FvUDT",
        "outputId": "9e63d1ba-adf7-47f5-d39c-720c644f2498"
      },
      "outputs": [
        {
          "output_type": "stream",
          "name": "stdout",
          "text": [
            "Karir2                    98\n",
            "Minat2                    80\n",
            "Karir1                     1\n",
            "Nilai Matematika           0\n",
            "Jurusan saat Sekolah       0\n",
            "Minat1                     0\n",
            "Program Studi saat ini     0\n",
            "dtype: int64\n"
          ]
        }
      ],
      "source": [
        "print(df.isnull().sum().sort_values(ascending=False))"
      ]
    },
    {
      "cell_type": "code",
      "execution_count": 14,
      "metadata": {
        "id": "J6tGGVN2i19t"
      },
      "outputs": [],
      "source": [
        "df.replace(to_replace='IPA', value=1, inplace = True)\n",
        "df.replace(to_replace='TKJ', value=2, inplace = True)\n",
        "df.replace(to_replace='IPS', value=3, inplace = True)\n",
        "df.replace(to_replace='Multimedia', value=4, inplace = True)\n",
        "df.replace(to_replace='RPL', value=5, inplace = True)"
      ]
    },
    {
      "cell_type": "code",
      "execution_count": 15,
      "metadata": {
        "id": "9qB78DafP_cq"
      },
      "outputs": [],
      "source": [
        "df.replace(to_replace='Teknik Informatika', value=1, inplace = True)\n",
        "df.replace(to_replace='Manajemen Informatika', value=2, inplace = True)\n",
        "df.replace(to_replace='Sistem Informasi', value=3, inplace = True)\n",
        "df.replace(to_replace='Teknik Komputer', value=4, inplace = True)\n",
        "df.replace(to_replace='Teknologi Informasi', value=5, inplace = True)"
      ]
    },
    {
      "cell_type": "code",
      "execution_count": 16,
      "metadata": {
        "id": "spuFaSGy2Qlz"
      },
      "outputs": [],
      "source": [
        "minat = {np.nan: 0, 'Mobile Developer': 1, 'Data': 2, 'Artificial Intelligence': 3, 'Designer Graphics': 4, 'Cyber Security (Hacking)': 5, 'Networking': 6, 'Operating System': 7,\n",
        "         'Database': 8, 'Web Development': 9, 'Smart Devices / Arduino': 10, 'Cyber Security': 11, 'Creating Game': 12}"
      ]
    },
    {
      "cell_type": "code",
      "execution_count": 17,
      "metadata": {
        "id": "ETGhkpp5Jlfp"
      },
      "outputs": [],
      "source": [
        "df.Minat1 = [minat[item] for item in df.Minat1]"
      ]
    },
    {
      "cell_type": "code",
      "execution_count": 18,
      "metadata": {
        "id": "F6LX7Jev3HEU"
      },
      "outputs": [],
      "source": [
        "df.Minat2 = [minat[item] for item in df.Minat2]"
      ]
    },
    {
      "cell_type": "code",
      "execution_count": 19,
      "metadata": {
        "id": "Y1SXVv_XMOUX"
      },
      "outputs": [],
      "source": [
        "karir = {np.nan:0, 'Mobile Apps Developer': 1, 'UI / UX Designer': 2, 'Data Scientist / Data Analyst / Data Engineer': 3, 'Machine Learning Engineer': 4, 'DevOps Engineer': 5, 'Attacker / Defense Cyber Security': 6, 'System Administrator / Network Administrator': 7,\n",
        "         'Database Administrator': 8, 'Software Engineer': 9, 'IoT Engineer': 10, 'Auditor TI': 11, 'Web Developer': 12, 'Game Developer': 13}"
      ]
    },
    {
      "cell_type": "code",
      "execution_count": 20,
      "metadata": {
        "id": "OJLsm4M3KHtH"
      },
      "outputs": [],
      "source": [
        "df.Karir1 = [karir[item] for item in df.Karir1]"
      ]
    },
    {
      "cell_type": "code",
      "execution_count": 21,
      "metadata": {
        "id": "XQ61xR-K9QY2"
      },
      "outputs": [],
      "source": [
        "df.Karir2 = [karir[item] for item in df.Karir2]"
      ]
    },
    {
      "cell_type": "code",
      "execution_count": 22,
      "metadata": {
        "colab": {
          "base_uri": "https://localhost:8080/",
          "height": 424
        },
        "id": "SgUL3kvN2kK7",
        "outputId": "b5850dc5-bec3-43ee-df49-e690118c28e6"
      },
      "outputs": [
        {
          "output_type": "execute_result",
          "data": {
            "text/plain": [
              "     Nilai Matematika  Jurusan saat Sekolah  Minat1  Minat2  Karir1  Karir2  \\\n",
              "0                88.0                     5       1       4       1       2   \n",
              "1                97.0                     5       1       2       1       3   \n",
              "2                88.0                     5       1       3       1       4   \n",
              "3                96.0                     1       1       4       1       0   \n",
              "4                88.0                     1       1       2       1       0   \n",
              "..                ...                   ...     ...     ...     ...     ...   \n",
              "247              77.0                     3      11      10      11       0   \n",
              "248              89.0                     2      11       0      11       0   \n",
              "249              92.0                     1      11      10      11      10   \n",
              "250              85.0                     2      11      10      11      10   \n",
              "251              88.0                     3      11       0      11       0   \n",
              "\n",
              "     Program Studi saat ini  \n",
              "0                         1  \n",
              "1                         1  \n",
              "2                         1  \n",
              "3                         1  \n",
              "4                         1  \n",
              "..                      ...  \n",
              "247                       5  \n",
              "248                       5  \n",
              "249                       5  \n",
              "250                       5  \n",
              "251                       5  \n",
              "\n",
              "[252 rows x 7 columns]"
            ],
            "text/html": [
              "\n",
              "  <div id=\"df-c39dfdcb-c85b-4f84-a97a-3953201f02b3\">\n",
              "    <div class=\"colab-df-container\">\n",
              "      <div>\n",
              "<style scoped>\n",
              "    .dataframe tbody tr th:only-of-type {\n",
              "        vertical-align: middle;\n",
              "    }\n",
              "\n",
              "    .dataframe tbody tr th {\n",
              "        vertical-align: top;\n",
              "    }\n",
              "\n",
              "    .dataframe thead th {\n",
              "        text-align: right;\n",
              "    }\n",
              "</style>\n",
              "<table border=\"1\" class=\"dataframe\">\n",
              "  <thead>\n",
              "    <tr style=\"text-align: right;\">\n",
              "      <th></th>\n",
              "      <th>Nilai Matematika</th>\n",
              "      <th>Jurusan saat Sekolah</th>\n",
              "      <th>Minat1</th>\n",
              "      <th>Minat2</th>\n",
              "      <th>Karir1</th>\n",
              "      <th>Karir2</th>\n",
              "      <th>Program Studi saat ini</th>\n",
              "    </tr>\n",
              "  </thead>\n",
              "  <tbody>\n",
              "    <tr>\n",
              "      <th>0</th>\n",
              "      <td>88.0</td>\n",
              "      <td>5</td>\n",
              "      <td>1</td>\n",
              "      <td>4</td>\n",
              "      <td>1</td>\n",
              "      <td>2</td>\n",
              "      <td>1</td>\n",
              "    </tr>\n",
              "    <tr>\n",
              "      <th>1</th>\n",
              "      <td>97.0</td>\n",
              "      <td>5</td>\n",
              "      <td>1</td>\n",
              "      <td>2</td>\n",
              "      <td>1</td>\n",
              "      <td>3</td>\n",
              "      <td>1</td>\n",
              "    </tr>\n",
              "    <tr>\n",
              "      <th>2</th>\n",
              "      <td>88.0</td>\n",
              "      <td>5</td>\n",
              "      <td>1</td>\n",
              "      <td>3</td>\n",
              "      <td>1</td>\n",
              "      <td>4</td>\n",
              "      <td>1</td>\n",
              "    </tr>\n",
              "    <tr>\n",
              "      <th>3</th>\n",
              "      <td>96.0</td>\n",
              "      <td>1</td>\n",
              "      <td>1</td>\n",
              "      <td>4</td>\n",
              "      <td>1</td>\n",
              "      <td>0</td>\n",
              "      <td>1</td>\n",
              "    </tr>\n",
              "    <tr>\n",
              "      <th>4</th>\n",
              "      <td>88.0</td>\n",
              "      <td>1</td>\n",
              "      <td>1</td>\n",
              "      <td>2</td>\n",
              "      <td>1</td>\n",
              "      <td>0</td>\n",
              "      <td>1</td>\n",
              "    </tr>\n",
              "    <tr>\n",
              "      <th>...</th>\n",
              "      <td>...</td>\n",
              "      <td>...</td>\n",
              "      <td>...</td>\n",
              "      <td>...</td>\n",
              "      <td>...</td>\n",
              "      <td>...</td>\n",
              "      <td>...</td>\n",
              "    </tr>\n",
              "    <tr>\n",
              "      <th>247</th>\n",
              "      <td>77.0</td>\n",
              "      <td>3</td>\n",
              "      <td>11</td>\n",
              "      <td>10</td>\n",
              "      <td>11</td>\n",
              "      <td>0</td>\n",
              "      <td>5</td>\n",
              "    </tr>\n",
              "    <tr>\n",
              "      <th>248</th>\n",
              "      <td>89.0</td>\n",
              "      <td>2</td>\n",
              "      <td>11</td>\n",
              "      <td>0</td>\n",
              "      <td>11</td>\n",
              "      <td>0</td>\n",
              "      <td>5</td>\n",
              "    </tr>\n",
              "    <tr>\n",
              "      <th>249</th>\n",
              "      <td>92.0</td>\n",
              "      <td>1</td>\n",
              "      <td>11</td>\n",
              "      <td>10</td>\n",
              "      <td>11</td>\n",
              "      <td>10</td>\n",
              "      <td>5</td>\n",
              "    </tr>\n",
              "    <tr>\n",
              "      <th>250</th>\n",
              "      <td>85.0</td>\n",
              "      <td>2</td>\n",
              "      <td>11</td>\n",
              "      <td>10</td>\n",
              "      <td>11</td>\n",
              "      <td>10</td>\n",
              "      <td>5</td>\n",
              "    </tr>\n",
              "    <tr>\n",
              "      <th>251</th>\n",
              "      <td>88.0</td>\n",
              "      <td>3</td>\n",
              "      <td>11</td>\n",
              "      <td>0</td>\n",
              "      <td>11</td>\n",
              "      <td>0</td>\n",
              "      <td>5</td>\n",
              "    </tr>\n",
              "  </tbody>\n",
              "</table>\n",
              "<p>252 rows × 7 columns</p>\n",
              "</div>\n",
              "      <button class=\"colab-df-convert\" onclick=\"convertToInteractive('df-c39dfdcb-c85b-4f84-a97a-3953201f02b3')\"\n",
              "              title=\"Convert this dataframe to an interactive table.\"\n",
              "              style=\"display:none;\">\n",
              "        \n",
              "  <svg xmlns=\"http://www.w3.org/2000/svg\" height=\"24px\"viewBox=\"0 0 24 24\"\n",
              "       width=\"24px\">\n",
              "    <path d=\"M0 0h24v24H0V0z\" fill=\"none\"/>\n",
              "    <path d=\"M18.56 5.44l.94 2.06.94-2.06 2.06-.94-2.06-.94-.94-2.06-.94 2.06-2.06.94zm-11 1L8.5 8.5l.94-2.06 2.06-.94-2.06-.94L8.5 2.5l-.94 2.06-2.06.94zm10 10l.94 2.06.94-2.06 2.06-.94-2.06-.94-.94-2.06-.94 2.06-2.06.94z\"/><path d=\"M17.41 7.96l-1.37-1.37c-.4-.4-.92-.59-1.43-.59-.52 0-1.04.2-1.43.59L10.3 9.45l-7.72 7.72c-.78.78-.78 2.05 0 2.83L4 21.41c.39.39.9.59 1.41.59.51 0 1.02-.2 1.41-.59l7.78-7.78 2.81-2.81c.8-.78.8-2.07 0-2.86zM5.41 20L4 18.59l7.72-7.72 1.47 1.35L5.41 20z\"/>\n",
              "  </svg>\n",
              "      </button>\n",
              "      \n",
              "  <style>\n",
              "    .colab-df-container {\n",
              "      display:flex;\n",
              "      flex-wrap:wrap;\n",
              "      gap: 12px;\n",
              "    }\n",
              "\n",
              "    .colab-df-convert {\n",
              "      background-color: #E8F0FE;\n",
              "      border: none;\n",
              "      border-radius: 50%;\n",
              "      cursor: pointer;\n",
              "      display: none;\n",
              "      fill: #1967D2;\n",
              "      height: 32px;\n",
              "      padding: 0 0 0 0;\n",
              "      width: 32px;\n",
              "    }\n",
              "\n",
              "    .colab-df-convert:hover {\n",
              "      background-color: #E2EBFA;\n",
              "      box-shadow: 0px 1px 2px rgba(60, 64, 67, 0.3), 0px 1px 3px 1px rgba(60, 64, 67, 0.15);\n",
              "      fill: #174EA6;\n",
              "    }\n",
              "\n",
              "    [theme=dark] .colab-df-convert {\n",
              "      background-color: #3B4455;\n",
              "      fill: #D2E3FC;\n",
              "    }\n",
              "\n",
              "    [theme=dark] .colab-df-convert:hover {\n",
              "      background-color: #434B5C;\n",
              "      box-shadow: 0px 1px 3px 1px rgba(0, 0, 0, 0.15);\n",
              "      filter: drop-shadow(0px 1px 2px rgba(0, 0, 0, 0.3));\n",
              "      fill: #FFFFFF;\n",
              "    }\n",
              "  </style>\n",
              "\n",
              "      <script>\n",
              "        const buttonEl =\n",
              "          document.querySelector('#df-c39dfdcb-c85b-4f84-a97a-3953201f02b3 button.colab-df-convert');\n",
              "        buttonEl.style.display =\n",
              "          google.colab.kernel.accessAllowed ? 'block' : 'none';\n",
              "\n",
              "        async function convertToInteractive(key) {\n",
              "          const element = document.querySelector('#df-c39dfdcb-c85b-4f84-a97a-3953201f02b3');\n",
              "          const dataTable =\n",
              "            await google.colab.kernel.invokeFunction('convertToInteractive',\n",
              "                                                     [key], {});\n",
              "          if (!dataTable) return;\n",
              "\n",
              "          const docLinkHtml = 'Like what you see? Visit the ' +\n",
              "            '<a target=\"_blank\" href=https://colab.research.google.com/notebooks/data_table.ipynb>data table notebook</a>'\n",
              "            + ' to learn more about interactive tables.';\n",
              "          element.innerHTML = '';\n",
              "          dataTable['output_type'] = 'display_data';\n",
              "          await google.colab.output.renderOutput(dataTable, element);\n",
              "          const docLink = document.createElement('div');\n",
              "          docLink.innerHTML = docLinkHtml;\n",
              "          element.appendChild(docLink);\n",
              "        }\n",
              "      </script>\n",
              "    </div>\n",
              "  </div>\n",
              "  "
            ]
          },
          "metadata": {},
          "execution_count": 22
        }
      ],
      "source": [
        "df"
      ]
    },
    {
      "cell_type": "markdown",
      "metadata": {
        "id": "5AXwtKMvMxpl"
      },
      "source": [
        "#Modelling & Evaluation"
      ]
    },
    {
      "cell_type": "code",
      "execution_count": 23,
      "metadata": {
        "colab": {
          "base_uri": "https://localhost:8080/",
          "height": 424
        },
        "id": "V6R9efTdNuMS",
        "outputId": "db6a2426-0efb-464c-f3b9-488527d44cf7"
      },
      "outputs": [
        {
          "output_type": "execute_result",
          "data": {
            "text/plain": [
              "     Nilai Matematika  Jurusan saat Sekolah  Minat1  Minat2  Karir1  Karir2\n",
              "0                88.0                     5       1       4       1       2\n",
              "1                97.0                     5       1       2       1       3\n",
              "2                88.0                     5       1       3       1       4\n",
              "3                96.0                     1       1       4       1       0\n",
              "4                88.0                     1       1       2       1       0\n",
              "..                ...                   ...     ...     ...     ...     ...\n",
              "247              77.0                     3      11      10      11       0\n",
              "248              89.0                     2      11       0      11       0\n",
              "249              92.0                     1      11      10      11      10\n",
              "250              85.0                     2      11      10      11      10\n",
              "251              88.0                     3      11       0      11       0\n",
              "\n",
              "[252 rows x 6 columns]"
            ],
            "text/html": [
              "\n",
              "  <div id=\"df-9eb7f49d-06ff-4306-ab0b-426c0715f2ae\">\n",
              "    <div class=\"colab-df-container\">\n",
              "      <div>\n",
              "<style scoped>\n",
              "    .dataframe tbody tr th:only-of-type {\n",
              "        vertical-align: middle;\n",
              "    }\n",
              "\n",
              "    .dataframe tbody tr th {\n",
              "        vertical-align: top;\n",
              "    }\n",
              "\n",
              "    .dataframe thead th {\n",
              "        text-align: right;\n",
              "    }\n",
              "</style>\n",
              "<table border=\"1\" class=\"dataframe\">\n",
              "  <thead>\n",
              "    <tr style=\"text-align: right;\">\n",
              "      <th></th>\n",
              "      <th>Nilai Matematika</th>\n",
              "      <th>Jurusan saat Sekolah</th>\n",
              "      <th>Minat1</th>\n",
              "      <th>Minat2</th>\n",
              "      <th>Karir1</th>\n",
              "      <th>Karir2</th>\n",
              "    </tr>\n",
              "  </thead>\n",
              "  <tbody>\n",
              "    <tr>\n",
              "      <th>0</th>\n",
              "      <td>88.0</td>\n",
              "      <td>5</td>\n",
              "      <td>1</td>\n",
              "      <td>4</td>\n",
              "      <td>1</td>\n",
              "      <td>2</td>\n",
              "    </tr>\n",
              "    <tr>\n",
              "      <th>1</th>\n",
              "      <td>97.0</td>\n",
              "      <td>5</td>\n",
              "      <td>1</td>\n",
              "      <td>2</td>\n",
              "      <td>1</td>\n",
              "      <td>3</td>\n",
              "    </tr>\n",
              "    <tr>\n",
              "      <th>2</th>\n",
              "      <td>88.0</td>\n",
              "      <td>5</td>\n",
              "      <td>1</td>\n",
              "      <td>3</td>\n",
              "      <td>1</td>\n",
              "      <td>4</td>\n",
              "    </tr>\n",
              "    <tr>\n",
              "      <th>3</th>\n",
              "      <td>96.0</td>\n",
              "      <td>1</td>\n",
              "      <td>1</td>\n",
              "      <td>4</td>\n",
              "      <td>1</td>\n",
              "      <td>0</td>\n",
              "    </tr>\n",
              "    <tr>\n",
              "      <th>4</th>\n",
              "      <td>88.0</td>\n",
              "      <td>1</td>\n",
              "      <td>1</td>\n",
              "      <td>2</td>\n",
              "      <td>1</td>\n",
              "      <td>0</td>\n",
              "    </tr>\n",
              "    <tr>\n",
              "      <th>...</th>\n",
              "      <td>...</td>\n",
              "      <td>...</td>\n",
              "      <td>...</td>\n",
              "      <td>...</td>\n",
              "      <td>...</td>\n",
              "      <td>...</td>\n",
              "    </tr>\n",
              "    <tr>\n",
              "      <th>247</th>\n",
              "      <td>77.0</td>\n",
              "      <td>3</td>\n",
              "      <td>11</td>\n",
              "      <td>10</td>\n",
              "      <td>11</td>\n",
              "      <td>0</td>\n",
              "    </tr>\n",
              "    <tr>\n",
              "      <th>248</th>\n",
              "      <td>89.0</td>\n",
              "      <td>2</td>\n",
              "      <td>11</td>\n",
              "      <td>0</td>\n",
              "      <td>11</td>\n",
              "      <td>0</td>\n",
              "    </tr>\n",
              "    <tr>\n",
              "      <th>249</th>\n",
              "      <td>92.0</td>\n",
              "      <td>1</td>\n",
              "      <td>11</td>\n",
              "      <td>10</td>\n",
              "      <td>11</td>\n",
              "      <td>10</td>\n",
              "    </tr>\n",
              "    <tr>\n",
              "      <th>250</th>\n",
              "      <td>85.0</td>\n",
              "      <td>2</td>\n",
              "      <td>11</td>\n",
              "      <td>10</td>\n",
              "      <td>11</td>\n",
              "      <td>10</td>\n",
              "    </tr>\n",
              "    <tr>\n",
              "      <th>251</th>\n",
              "      <td>88.0</td>\n",
              "      <td>3</td>\n",
              "      <td>11</td>\n",
              "      <td>0</td>\n",
              "      <td>11</td>\n",
              "      <td>0</td>\n",
              "    </tr>\n",
              "  </tbody>\n",
              "</table>\n",
              "<p>252 rows × 6 columns</p>\n",
              "</div>\n",
              "      <button class=\"colab-df-convert\" onclick=\"convertToInteractive('df-9eb7f49d-06ff-4306-ab0b-426c0715f2ae')\"\n",
              "              title=\"Convert this dataframe to an interactive table.\"\n",
              "              style=\"display:none;\">\n",
              "        \n",
              "  <svg xmlns=\"http://www.w3.org/2000/svg\" height=\"24px\"viewBox=\"0 0 24 24\"\n",
              "       width=\"24px\">\n",
              "    <path d=\"M0 0h24v24H0V0z\" fill=\"none\"/>\n",
              "    <path d=\"M18.56 5.44l.94 2.06.94-2.06 2.06-.94-2.06-.94-.94-2.06-.94 2.06-2.06.94zm-11 1L8.5 8.5l.94-2.06 2.06-.94-2.06-.94L8.5 2.5l-.94 2.06-2.06.94zm10 10l.94 2.06.94-2.06 2.06-.94-2.06-.94-.94-2.06-.94 2.06-2.06.94z\"/><path d=\"M17.41 7.96l-1.37-1.37c-.4-.4-.92-.59-1.43-.59-.52 0-1.04.2-1.43.59L10.3 9.45l-7.72 7.72c-.78.78-.78 2.05 0 2.83L4 21.41c.39.39.9.59 1.41.59.51 0 1.02-.2 1.41-.59l7.78-7.78 2.81-2.81c.8-.78.8-2.07 0-2.86zM5.41 20L4 18.59l7.72-7.72 1.47 1.35L5.41 20z\"/>\n",
              "  </svg>\n",
              "      </button>\n",
              "      \n",
              "  <style>\n",
              "    .colab-df-container {\n",
              "      display:flex;\n",
              "      flex-wrap:wrap;\n",
              "      gap: 12px;\n",
              "    }\n",
              "\n",
              "    .colab-df-convert {\n",
              "      background-color: #E8F0FE;\n",
              "      border: none;\n",
              "      border-radius: 50%;\n",
              "      cursor: pointer;\n",
              "      display: none;\n",
              "      fill: #1967D2;\n",
              "      height: 32px;\n",
              "      padding: 0 0 0 0;\n",
              "      width: 32px;\n",
              "    }\n",
              "\n",
              "    .colab-df-convert:hover {\n",
              "      background-color: #E2EBFA;\n",
              "      box-shadow: 0px 1px 2px rgba(60, 64, 67, 0.3), 0px 1px 3px 1px rgba(60, 64, 67, 0.15);\n",
              "      fill: #174EA6;\n",
              "    }\n",
              "\n",
              "    [theme=dark] .colab-df-convert {\n",
              "      background-color: #3B4455;\n",
              "      fill: #D2E3FC;\n",
              "    }\n",
              "\n",
              "    [theme=dark] .colab-df-convert:hover {\n",
              "      background-color: #434B5C;\n",
              "      box-shadow: 0px 1px 3px 1px rgba(0, 0, 0, 0.15);\n",
              "      filter: drop-shadow(0px 1px 2px rgba(0, 0, 0, 0.3));\n",
              "      fill: #FFFFFF;\n",
              "    }\n",
              "  </style>\n",
              "\n",
              "      <script>\n",
              "        const buttonEl =\n",
              "          document.querySelector('#df-9eb7f49d-06ff-4306-ab0b-426c0715f2ae button.colab-df-convert');\n",
              "        buttonEl.style.display =\n",
              "          google.colab.kernel.accessAllowed ? 'block' : 'none';\n",
              "\n",
              "        async function convertToInteractive(key) {\n",
              "          const element = document.querySelector('#df-9eb7f49d-06ff-4306-ab0b-426c0715f2ae');\n",
              "          const dataTable =\n",
              "            await google.colab.kernel.invokeFunction('convertToInteractive',\n",
              "                                                     [key], {});\n",
              "          if (!dataTable) return;\n",
              "\n",
              "          const docLinkHtml = 'Like what you see? Visit the ' +\n",
              "            '<a target=\"_blank\" href=https://colab.research.google.com/notebooks/data_table.ipynb>data table notebook</a>'\n",
              "            + ' to learn more about interactive tables.';\n",
              "          element.innerHTML = '';\n",
              "          dataTable['output_type'] = 'display_data';\n",
              "          await google.colab.output.renderOutput(dataTable, element);\n",
              "          const docLink = document.createElement('div');\n",
              "          docLink.innerHTML = docLinkHtml;\n",
              "          element.appendChild(docLink);\n",
              "        }\n",
              "      </script>\n",
              "    </div>\n",
              "  </div>\n",
              "  "
            ]
          },
          "metadata": {},
          "execution_count": 23
        }
      ],
      "source": [
        "X = df.drop(['Program Studi saat ini'], axis = 1)\n",
        "X"
      ]
    },
    {
      "cell_type": "code",
      "execution_count": 24,
      "metadata": {
        "colab": {
          "base_uri": "https://localhost:8080/"
        },
        "id": "WoCsUpXwN6Jr",
        "outputId": "c23c6c54-bef0-4ffc-af58-0dc765984a92"
      },
      "outputs": [
        {
          "output_type": "execute_result",
          "data": {
            "text/plain": [
              "0      1\n",
              "1      1\n",
              "2      1\n",
              "3      1\n",
              "4      1\n",
              "      ..\n",
              "247    5\n",
              "248    5\n",
              "249    5\n",
              "250    5\n",
              "251    5\n",
              "Name: Program Studi saat ini, Length: 252, dtype: int64"
            ]
          },
          "metadata": {},
          "execution_count": 24
        }
      ],
      "source": [
        "y = df['Program Studi saat ini']\n",
        "y"
      ]
    },
    {
      "cell_type": "code",
      "execution_count": 25,
      "metadata": {
        "id": "lI7NCVQk4eTs"
      },
      "outputs": [],
      "source": [
        "y=y.astype('int')"
      ]
    },
    {
      "cell_type": "code",
      "execution_count": 26,
      "metadata": {
        "id": "-O9DXDALOfwZ"
      },
      "outputs": [],
      "source": [
        "X_train, X_test, y_train, y_test = train_test_split(X, y, test_size=0.2)"
      ]
    },
    {
      "cell_type": "markdown",
      "metadata": {
        "id": "rY6g-CMUrGSn"
      },
      "source": [
        "##GridSearchCV"
      ]
    },
    {
      "cell_type": "markdown",
      "source": [
        "##Decision Tree"
      ],
      "metadata": {
        "id": "DtC644sKo-Lo"
      }
    },
    {
      "cell_type": "code",
      "execution_count": 27,
      "metadata": {
        "colab": {
          "base_uri": "https://localhost:8080/"
        },
        "id": "HS_Z3eGINme7",
        "outputId": "f1cd606b-f0f9-442b-82f0-f35ec59f2d59"
      },
      "outputs": [
        {
          "output_type": "execute_result",
          "data": {
            "text/plain": [
              "GridSearchCV(estimator=DecisionTreeClassifier(),\n",
              "             param_grid={'criterion': ['gini', 'entropy'],\n",
              "                         'max_depth': [3, 5, 7, 11]})"
            ]
          },
          "metadata": {},
          "execution_count": 27
        }
      ],
      "source": [
        "model_dt = DecisionTreeClassifier()\n",
        "parameters_dt = {\n",
        "    'criterion': ['gini', 'entropy'],\n",
        "    'max_depth': [3, 5, 7, 11],\n",
        "}\n",
        "gs_dt = GridSearchCV(model_dt, parameters_dt)\n",
        "\n",
        "gs_dt.fit(X_train, y_train)"
      ]
    },
    {
      "cell_type": "code",
      "execution_count": 28,
      "metadata": {
        "colab": {
          "base_uri": "https://localhost:8080/"
        },
        "id": "ZnyCFd-bOphH",
        "outputId": "3c160b88-de82-43bc-8804-7f215130eaba"
      },
      "outputs": [
        {
          "output_type": "stream",
          "name": "stdout",
          "text": [
            "{'criterion': 'gini', 'max_depth': 5}\n"
          ]
        }
      ],
      "source": [
        "print(gs_dt.best_params_)"
      ]
    },
    {
      "cell_type": "code",
      "execution_count": 34,
      "metadata": {
        "id": "5JljruPJOrZg"
      },
      "outputs": [],
      "source": [
        "dt_model = DecisionTreeClassifier(criterion='gini', max_depth=5)"
      ]
    },
    {
      "cell_type": "code",
      "execution_count": 39,
      "metadata": {
        "colab": {
          "base_uri": "https://localhost:8080/"
        },
        "id": "2mu3T6pxOu7U",
        "outputId": "88e7bea9-3dbd-4395-b659-58286662ec4c"
      },
      "outputs": [
        {
          "output_type": "execute_result",
          "data": {
            "text/plain": [
              "DecisionTreeClassifier(max_depth=5)"
            ]
          },
          "metadata": {},
          "execution_count": 39
        }
      ],
      "source": [
        "dt_model.fit(X_train, y_train)"
      ]
    },
    {
      "cell_type": "code",
      "execution_count": 40,
      "metadata": {
        "colab": {
          "base_uri": "https://localhost:8080/"
        },
        "id": "bgyUNH5aO1hg",
        "outputId": "5ce947b1-57c9-487f-c0af-88a7aaff857d"
      },
      "outputs": [
        {
          "output_type": "stream",
          "name": "stdout",
          "text": [
            "Test-set accuracy DT:  1.0\n"
          ]
        }
      ],
      "source": [
        "y_pred_dt = dt_model.predict(X_test)\n",
        "dt_score = accuracy_score(y_pred_dt, y_test)\n",
        "print('Test-set accuracy DT: ', dt_score)"
      ]
    },
    {
      "cell_type": "code",
      "source": [
        "cm_rf = confusion_matrix(y_test, y_pred_dt)\n",
        "cm_rf"
      ],
      "metadata": {
        "colab": {
          "base_uri": "https://localhost:8080/"
        },
        "id": "A0mCoJIXqVZq",
        "outputId": "b097cd95-bb57-4579-b9cf-e74543c91e06"
      },
      "execution_count": 51,
      "outputs": [
        {
          "output_type": "execute_result",
          "data": {
            "text/plain": [
              "array([[12,  0,  0,  0,  0],\n",
              "       [ 0,  9,  0,  0,  0],\n",
              "       [ 0,  0, 12,  0,  0],\n",
              "       [ 0,  0,  0, 11,  0],\n",
              "       [ 0,  0,  0,  0,  7]])"
            ]
          },
          "metadata": {},
          "execution_count": 51
        }
      ]
    },
    {
      "cell_type": "code",
      "source": [
        "print(dt_model.predict([[1, 85, 1, 3, 4, 0]]))\n",
        "print(dt_model.predict([[2, 93, 9, 0, 12, 13]]))\n",
        "print(dt_model.predict([[4, 88, 8, 9, 9, 0]]))\n",
        "print(dt_model.predict([[3, 95, 6, 7, 5, 0]]))\n",
        "print(dt_model.predict([[1, 89, 10, 0, 10, 11]]))"
      ],
      "metadata": {
        "colab": {
          "base_uri": "https://localhost:8080/"
        },
        "id": "3ggqIxfzpJKu",
        "outputId": "c4c84e93-fea4-49fc-d47c-5b6ab6837293"
      },
      "execution_count": 44,
      "outputs": [
        {
          "output_type": "stream",
          "name": "stdout",
          "text": [
            "[1]\n",
            "[2]\n",
            "[3]\n",
            "[4]\n",
            "[5]\n"
          ]
        },
        {
          "output_type": "stream",
          "name": "stderr",
          "text": [
            "/usr/local/lib/python3.7/dist-packages/sklearn/base.py:451: UserWarning: X does not have valid feature names, but DecisionTreeClassifier was fitted with feature names\n",
            "  \"X does not have valid feature names, but\"\n",
            "/usr/local/lib/python3.7/dist-packages/sklearn/base.py:451: UserWarning: X does not have valid feature names, but DecisionTreeClassifier was fitted with feature names\n",
            "  \"X does not have valid feature names, but\"\n",
            "/usr/local/lib/python3.7/dist-packages/sklearn/base.py:451: UserWarning: X does not have valid feature names, but DecisionTreeClassifier was fitted with feature names\n",
            "  \"X does not have valid feature names, but\"\n",
            "/usr/local/lib/python3.7/dist-packages/sklearn/base.py:451: UserWarning: X does not have valid feature names, but DecisionTreeClassifier was fitted with feature names\n",
            "  \"X does not have valid feature names, but\"\n",
            "/usr/local/lib/python3.7/dist-packages/sklearn/base.py:451: UserWarning: X does not have valid feature names, but DecisionTreeClassifier was fitted with feature names\n",
            "  \"X does not have valid feature names, but\"\n"
          ]
        }
      ]
    },
    {
      "cell_type": "markdown",
      "source": [
        "##SVC"
      ],
      "metadata": {
        "id": "LJiGpru0o84g"
      }
    },
    {
      "cell_type": "code",
      "execution_count": 45,
      "metadata": {
        "colab": {
          "base_uri": "https://localhost:8080/"
        },
        "id": "WJa00-QgPHhQ",
        "outputId": "1ce47eb3-72e7-43d4-8f82-4c1125ebcacc"
      },
      "outputs": [
        {
          "output_type": "execute_result",
          "data": {
            "text/plain": [
              "GridSearchCV(estimator=SVC(),\n",
              "             param_grid={'C': [0.1, 1, 10, 100, 1000],\n",
              "                         'gamma': [1, 0, 5, 0.1, 0.01, 0.001, 0.0001],\n",
              "                         'kernel': ['rbf']})"
            ]
          },
          "metadata": {},
          "execution_count": 45
        }
      ],
      "source": [
        "model_svc = SVC()\n",
        "parameters_svc = {\n",
        "    'C': [0.1, 1, 10, 100, 1000],\n",
        "    'gamma': [1, 0,5, 0.1, 0.01, 0.001, 0.0001],\n",
        "    'kernel': ['rbf']\n",
        "}\n",
        "gs_svc = GridSearchCV(model_svc, parameters_svc)\n",
        "\n",
        "gs_svc.fit(X_train, y_train)"
      ]
    },
    {
      "cell_type": "code",
      "execution_count": 46,
      "metadata": {
        "colab": {
          "base_uri": "https://localhost:8080/"
        },
        "id": "5dmzBxm2PTfR",
        "outputId": "ce5bac3f-6462-4396-d6b9-855b2a031e84"
      },
      "outputs": [
        {
          "output_type": "stream",
          "name": "stdout",
          "text": [
            "{'C': 1000, 'gamma': 0.001, 'kernel': 'rbf'}\n"
          ]
        }
      ],
      "source": [
        "print(gs_svc.best_params_)"
      ]
    },
    {
      "cell_type": "code",
      "execution_count": 47,
      "metadata": {
        "id": "zlHQYkiZPVC6"
      },
      "outputs": [],
      "source": [
        "svc_model = SVC(C=1000, gamma=0.001, kernel='rbf')"
      ]
    },
    {
      "cell_type": "code",
      "execution_count": 48,
      "metadata": {
        "colab": {
          "base_uri": "https://localhost:8080/"
        },
        "id": "h0f3pOJxPbIL",
        "outputId": "0ad23e29-1f42-44c4-e833-f3032129d3e9"
      },
      "outputs": [
        {
          "output_type": "execute_result",
          "data": {
            "text/plain": [
              "SVC(C=1000, gamma=0.001)"
            ]
          },
          "metadata": {},
          "execution_count": 48
        }
      ],
      "source": [
        "svc_model.fit(X_train, y_train)"
      ]
    },
    {
      "cell_type": "code",
      "execution_count": 49,
      "metadata": {
        "colab": {
          "base_uri": "https://localhost:8080/"
        },
        "id": "ucisJWuiPg7_",
        "outputId": "f8cae4aa-ed76-4577-a996-43a3fd759a76"
      },
      "outputs": [
        {
          "output_type": "stream",
          "name": "stdout",
          "text": [
            "Test-set accuracy SVC:  0.9803921568627451\n"
          ]
        }
      ],
      "source": [
        "y_pred_svc = svc_model.predict(X_test)\n",
        "svc_score = accuracy_score(y_pred_svc, y_test)\n",
        "print('Test-set accuracy SVC: ', svc_score)"
      ]
    },
    {
      "cell_type": "code",
      "source": [
        "cm_rf = confusion_matrix(y_test, y_pred_svc)\n",
        "cm_rf"
      ],
      "metadata": {
        "colab": {
          "base_uri": "https://localhost:8080/"
        },
        "id": "AgipRHgFqe0g",
        "outputId": "e7340a87-18ba-4a8e-ca7b-e27595c17c66"
      },
      "execution_count": 52,
      "outputs": [
        {
          "output_type": "execute_result",
          "data": {
            "text/plain": [
              "array([[12,  0,  0,  0,  0],\n",
              "       [ 0,  8,  0,  0,  1],\n",
              "       [ 0,  0, 12,  0,  0],\n",
              "       [ 0,  0,  0, 11,  0],\n",
              "       [ 0,  0,  0,  0,  7]])"
            ]
          },
          "metadata": {},
          "execution_count": 52
        }
      ]
    },
    {
      "cell_type": "code",
      "source": [
        "print(svc_model.predict([[1, 85, 1, 3, 4, 0]]))\n",
        "print(svc_model.predict([[2, 93, 9, 0, 12, 13]]))\n",
        "print(svc_model.predict([[4, 88, 8, 9, 9, 0]]))\n",
        "print(svc_model.predict([[3, 95, 6, 7, 5, 0]]))\n",
        "print(svc_model.predict([[1, 89, 10, 0, 10, 11]]))"
      ],
      "metadata": {
        "colab": {
          "base_uri": "https://localhost:8080/"
        },
        "id": "SSu4Sb43qLUn",
        "outputId": "15247771-0c95-4b8c-a86c-1c568e5fbdd8"
      },
      "execution_count": 50,
      "outputs": [
        {
          "output_type": "stream",
          "name": "stdout",
          "text": [
            "[2]\n",
            "[2]\n",
            "[2]\n",
            "[2]\n",
            "[2]\n"
          ]
        },
        {
          "output_type": "stream",
          "name": "stderr",
          "text": [
            "/usr/local/lib/python3.7/dist-packages/sklearn/base.py:451: UserWarning: X does not have valid feature names, but SVC was fitted with feature names\n",
            "  \"X does not have valid feature names, but\"\n",
            "/usr/local/lib/python3.7/dist-packages/sklearn/base.py:451: UserWarning: X does not have valid feature names, but SVC was fitted with feature names\n",
            "  \"X does not have valid feature names, but\"\n",
            "/usr/local/lib/python3.7/dist-packages/sklearn/base.py:451: UserWarning: X does not have valid feature names, but SVC was fitted with feature names\n",
            "  \"X does not have valid feature names, but\"\n",
            "/usr/local/lib/python3.7/dist-packages/sklearn/base.py:451: UserWarning: X does not have valid feature names, but SVC was fitted with feature names\n",
            "  \"X does not have valid feature names, but\"\n",
            "/usr/local/lib/python3.7/dist-packages/sklearn/base.py:451: UserWarning: X does not have valid feature names, but SVC was fitted with feature names\n",
            "  \"X does not have valid feature names, but\"\n"
          ]
        }
      ]
    },
    {
      "cell_type": "markdown",
      "source": [
        "##Random Forest"
      ],
      "metadata": {
        "id": "XpEkDuc7pELG"
      }
    },
    {
      "cell_type": "code",
      "execution_count": 53,
      "metadata": {
        "colab": {
          "base_uri": "https://localhost:8080/"
        },
        "id": "6ehRJAOv7SG8",
        "outputId": "8c2e3e30-0ece-4869-9cba-6f23be9bff20"
      },
      "outputs": [
        {
          "output_type": "execute_result",
          "data": {
            "text/plain": [
              "GridSearchCV(estimator=RandomForestClassifier(random_state=42),\n",
              "             param_grid={'criterion': ['gini', 'entropy'],\n",
              "                         'max_depth': [3, 4, 5, 6, 7, 8, 9, 10, 11],\n",
              "                         'max_features': ['auto', 'sqrt'],\n",
              "                         'n_estimators': [30, 50, 100, 150, 200]})"
            ]
          },
          "metadata": {},
          "execution_count": 53
        }
      ],
      "source": [
        "model_rf = RandomForestClassifier(random_state=42)\n",
        "parameters_rf = { \n",
        "    'n_estimators': [30, 50, 100, 150, 200],\n",
        "    'max_features': ['auto', 'sqrt'],\n",
        "    'max_depth' : [3, 4, 5, 6, 7, 8, 9, 10, 11],\n",
        "    'criterion' :['gini', 'entropy']\n",
        "}\n",
        "\n",
        "gs_rf = GridSearchCV(model_rf, parameters_rf)\n",
        "\n",
        "gs_rf.fit(X_train, y_train)"
      ]
    },
    {
      "cell_type": "code",
      "execution_count": 54,
      "metadata": {
        "colab": {
          "base_uri": "https://localhost:8080/"
        },
        "id": "bUdzjxYo7XCb",
        "outputId": "d54b5bdf-dbdb-442b-9924-a14cf5c3c717"
      },
      "outputs": [
        {
          "output_type": "stream",
          "name": "stdout",
          "text": [
            "{'criterion': 'gini', 'max_depth': 3, 'max_features': 'auto', 'n_estimators': 30}\n"
          ]
        }
      ],
      "source": [
        "print(gs_rf.best_params_)"
      ]
    },
    {
      "cell_type": "code",
      "execution_count": 55,
      "metadata": {
        "id": "VP06H_c77axb"
      },
      "outputs": [],
      "source": [
        "rf_model=RandomForestClassifier(random_state=42,\n",
        "                                max_features='auto',\n",
        "                                n_estimators= 30,\n",
        "                                max_depth=3,\n",
        "                                criterion='gini')"
      ]
    },
    {
      "cell_type": "code",
      "execution_count": 56,
      "metadata": {
        "colab": {
          "base_uri": "https://localhost:8080/"
        },
        "id": "WTVYGiaf7cRD",
        "outputId": "c2a3fac0-5975-41c2-f431-3220f24cae0d"
      },
      "outputs": [
        {
          "output_type": "execute_result",
          "data": {
            "text/plain": [
              "RandomForestClassifier(max_depth=3, n_estimators=30, random_state=42)"
            ]
          },
          "metadata": {},
          "execution_count": 56
        }
      ],
      "source": [
        "rf_model.fit(X_train, y_train)"
      ]
    },
    {
      "cell_type": "code",
      "execution_count": 57,
      "metadata": {
        "colab": {
          "base_uri": "https://localhost:8080/"
        },
        "id": "_2XuHc377hZD",
        "outputId": "c5bf069e-2b45-4efd-bca6-5caab623cd63"
      },
      "outputs": [
        {
          "output_type": "stream",
          "name": "stdout",
          "text": [
            "Test-set accuracy RF:  1.0\n"
          ]
        }
      ],
      "source": [
        "y_pred_rf = rf_model.predict(X_test)\n",
        "rf_score = accuracy_score(y_pred_rf, y_test)\n",
        "print('Test-set accuracy RF: ', rf_score)"
      ]
    },
    {
      "cell_type": "code",
      "source": [
        "cm_rf = confusion_matrix(y_test, y_pred_rf)\n",
        "cm_rf"
      ],
      "metadata": {
        "colab": {
          "base_uri": "https://localhost:8080/"
        },
        "id": "DJlQpLKgqvFI",
        "outputId": "77a5a72a-29e9-48dd-f2e7-6ccf019026b0"
      },
      "execution_count": 58,
      "outputs": [
        {
          "output_type": "execute_result",
          "data": {
            "text/plain": [
              "array([[12,  0,  0,  0,  0],\n",
              "       [ 0,  9,  0,  0,  0],\n",
              "       [ 0,  0, 12,  0,  0],\n",
              "       [ 0,  0,  0, 11,  0],\n",
              "       [ 0,  0,  0,  0,  7]])"
            ]
          },
          "metadata": {},
          "execution_count": 58
        }
      ]
    },
    {
      "cell_type": "code",
      "source": [
        "print(rf_model.predict([[1, 85, 1, 3, 4, 0]]))\n",
        "print(rf_model.predict([[2, 93, 9, 0, 12, 13]]))\n",
        "print(rf_model.predict([[4, 88, 8, 9, 9, 0]]))\n",
        "print(rf_model.predict([[3, 95, 6, 7, 5, 0]]))\n",
        "print(rf_model.predict([[1, 89, 10, 0, 10, 11]]))"
      ],
      "metadata": {
        "colab": {
          "base_uri": "https://localhost:8080/"
        },
        "id": "WkLaNpD-qyE0",
        "outputId": "000fbe87-1243-410c-9f6c-78e27889751b"
      },
      "execution_count": 59,
      "outputs": [
        {
          "output_type": "stream",
          "name": "stdout",
          "text": [
            "[1]\n",
            "[2]\n",
            "[3]\n",
            "[4]\n",
            "[5]\n"
          ]
        },
        {
          "output_type": "stream",
          "name": "stderr",
          "text": [
            "/usr/local/lib/python3.7/dist-packages/sklearn/base.py:451: UserWarning: X does not have valid feature names, but RandomForestClassifier was fitted with feature names\n",
            "  \"X does not have valid feature names, but\"\n",
            "/usr/local/lib/python3.7/dist-packages/sklearn/base.py:451: UserWarning: X does not have valid feature names, but RandomForestClassifier was fitted with feature names\n",
            "  \"X does not have valid feature names, but\"\n",
            "/usr/local/lib/python3.7/dist-packages/sklearn/base.py:451: UserWarning: X does not have valid feature names, but RandomForestClassifier was fitted with feature names\n",
            "  \"X does not have valid feature names, but\"\n",
            "/usr/local/lib/python3.7/dist-packages/sklearn/base.py:451: UserWarning: X does not have valid feature names, but RandomForestClassifier was fitted with feature names\n",
            "  \"X does not have valid feature names, but\"\n",
            "/usr/local/lib/python3.7/dist-packages/sklearn/base.py:451: UserWarning: X does not have valid feature names, but RandomForestClassifier was fitted with feature names\n",
            "  \"X does not have valid feature names, but\"\n"
          ]
        }
      ]
    },
    {
      "cell_type": "markdown",
      "source": [
        "##Export Model"
      ],
      "metadata": {
        "id": "6WWmkTIfrSvd"
      }
    },
    {
      "cell_type": "code",
      "source": [
        "joblib.dump((dt_model), \"dt_model.model\")"
      ],
      "metadata": {
        "colab": {
          "base_uri": "https://localhost:8080/"
        },
        "id": "9N8IYiAArWAQ",
        "outputId": "bf02d8fd-7bb3-44f9-d698-34b2e9e1d89a"
      },
      "execution_count": 60,
      "outputs": [
        {
          "output_type": "execute_result",
          "data": {
            "text/plain": [
              "['dt_model.model']"
            ]
          },
          "metadata": {},
          "execution_count": 60
        }
      ]
    }
  ],
  "metadata": {
    "colab": {
      "provenance": [],
      "collapsed_sections": [
        "k33EY7XOgdwY",
        "71QCNsP_q9GG",
        "Wdc0fLmAiD84",
        "5AXwtKMvMxpl",
        "DtC644sKo-Lo",
        "LJiGpru0o84g"
      ]
    },
    "kernelspec": {
      "display_name": "Python 3",
      "name": "python3"
    },
    "language_info": {
      "name": "python"
    }
  },
  "nbformat": 4,
  "nbformat_minor": 0
}